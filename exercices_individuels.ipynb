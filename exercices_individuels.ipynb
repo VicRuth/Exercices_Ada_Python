{
 "cells": [
  {
   "cell_type": "markdown",
   "metadata": {},
   "source": [
    "#### Exercice 1: Bonjour"
   ]
  },
  {
   "cell_type": "markdown",
   "metadata": {},
   "source": [
    "##### Etape 2"
   ]
  },
  {
   "cell_type": "code",
   "execution_count": 8,
   "metadata": {},
   "outputs": [
    {
     "name": "stdout",
     "output_type": "stream",
     "text": [
      "Bonjour !\n",
      "Bonjour  Ruth !\n"
     ]
    }
   ],
   "source": [
    "message = \"Bonjour !\"\n",
    "print(message)\n",
    "\n",
    "firstname = \" Ruth\"\n",
    "message = \"Bonjour\" + \" \" + firstname + \" !\"\n",
    "#message = f\"Bonjour {firstname} !\"\n",
    "print(message)"
   ]
  },
  {
   "cell_type": "markdown",
   "metadata": {},
   "source": [
    "##### Etape 3"
   ]
  },
  {
   "cell_type": "code",
   "execution_count": 9,
   "metadata": {},
   "outputs": [
    {
     "name": "stdout",
     "output_type": "stream",
     "text": [
      "Bonjour Ruth !\n"
     ]
    }
   ],
   "source": [
    "def sayHello(firstname ): \n",
    "    message = \"Bonjour\" + \" \" + firstname + \" !\"\n",
    "    print (message)\n",
    "    \n",
    "sayHello(\"Ruth\")"
   ]
  },
  {
   "cell_type": "markdown",
   "metadata": {},
   "source": [
    "##### Etape 5"
   ]
  },
  {
   "cell_type": "code",
   "execution_count": 10,
   "metadata": {},
   "outputs": [
    {
     "name": "stdout",
     "output_type": "stream",
     "text": [
      "Bonjour Ruth !\n",
      "Bonsoir Ruth !\n",
      "Bonjour Ruth !\n"
     ]
    }
   ],
   "source": [
    "def sayHello(firstname,hour ): \n",
    "    if hour >=18:\n",
    "        message = \"Bonsoir\" + \" \" + firstname + \" !\"\n",
    "        print (message)\n",
    "    else: \n",
    "        message = \"Bonjour\" + \" \" + firstname + \" !\"\n",
    "        print (message)\n",
    "    \n",
    "sayHello(\"Ruth\",11)\n",
    "sayHello(\"Ruth\",18)\n",
    "sayHello(\"Ruth\",17)"
   ]
  },
  {
   "cell_type": "markdown",
   "metadata": {},
   "source": [
    "#### Exercice 2: Guess a number"
   ]
  },
  {
   "cell_type": "markdown",
   "metadata": {},
   "source": [
    "##### Etape 1"
   ]
  },
  {
   "cell_type": "code",
   "execution_count": 2,
   "metadata": {},
   "outputs": [
    {
     "data": {
      "text/plain": [
       "15"
      ]
     },
     "execution_count": 2,
     "metadata": {},
     "output_type": "execute_result"
    }
   ],
   "source": [
    "def AskNumber ():\n",
    "    givenNumber = int(input(\"Bonjour, pouvez-vous entrer un nombre:\"))\n",
    "    return givenNumber\n",
    "    \n",
    "AskNumber()\n"
   ]
  },
  {
   "cell_type": "markdown",
   "metadata": {},
   "source": [
    "##### Etape 2"
   ]
  },
  {
   "cell_type": "code",
   "execution_count": 19,
   "metadata": {},
   "outputs": [
    {
     "name": "stdout",
     "output_type": "stream",
     "text": [
      "Plus grand\n"
     ]
    }
   ],
   "source": [
    "def AskNumber ():\n",
    "    givenNumber = int(input(\"Bonjour, pouvez-vous entrer un nombre:\"))\n",
    "    return givenNumber\n",
    "\n",
    "def didWin(givenNumber):\n",
    "    if givenNumber<22:\n",
    "        print (\"Plus grand\")\n",
    "    elif givenNumber>22 : \n",
    "        print (\"Plus petit\")\n",
    "    else:\n",
    "        print(\"Bravo ! Vous avez deviné le nombre\")\n",
    "\n",
    "def gamePlay():\n",
    "    Number = AskNumber()\n",
    "    didWin(Number)\n",
    "\n",
    "gamePlay()"
   ]
  },
  {
   "cell_type": "markdown",
   "metadata": {},
   "source": [
    "##### Etape 3"
   ]
  },
  {
   "cell_type": "code",
   "execution_count": 18,
   "metadata": {},
   "outputs": [
    {
     "name": "stdout",
     "output_type": "stream",
     "text": [
      "Plus grand\n",
      "Plus petit\n",
      "Bravo ! Vous avez deviné le nombre\n"
     ]
    }
   ],
   "source": [
    "def AskNumber ():\n",
    "    givenNumber = int(input(\"Bonjour, entrez un nombre entre 0 et 50:\"))\n",
    "    return givenNumber\n",
    "\n",
    "def didWin(givenNumber):\n",
    "    if givenNumber<22:\n",
    "        print (\"Plus grand\")\n",
    "        return False\n",
    "    elif givenNumber>22 : \n",
    "        print (\"Plus petit\")\n",
    "        return False\n",
    "    else:\n",
    "        print(\"Bravo ! Vous avez deviné le nombre\")\n",
    "        return True\n",
    "\n",
    "def gamePlay():\n",
    "    \n",
    "    while True:\n",
    "        Number = AskNumber()\n",
    "        \n",
    "        if didWin(Number):\n",
    "            break #Sortir de la boucle while, une condition de sortie\n",
    "\n",
    "gamePlay()"
   ]
  },
  {
   "cell_type": "markdown",
   "metadata": {},
   "source": [
    "##### Etape 4"
   ]
  },
  {
   "cell_type": "code",
   "execution_count": 21,
   "metadata": {},
   "outputs": [
    {
     "name": "stdout",
     "output_type": "stream",
     "text": [
      "Plus grand\n",
      "Plus petit\n",
      "Bravo ! Vous avez deviné le nombre\n"
     ]
    }
   ],
   "source": [
    "def AskNumber():\n",
    "    while True:\n",
    "        try:\n",
    "            givenNumber = int(input(\"Bonjour, joueur 1, pouvez-vous entrer un nombre entre 0 et 50: \"))\n",
    "            if 0 <= givenNumber <= 50:  # Vérification si le nombre est dans la plage\n",
    "                return givenNumber\n",
    "            else:\n",
    "                print(\"Le nombre doit être entre 0 et 50.\")\n",
    "        except ValueError:\n",
    "            print(\"Veuillez entrer un nombre valide.\")\n",
    "\n",
    "def didWin(givenNumber, guessNumber):\n",
    "    if guessNumber < givenNumber:\n",
    "        print(\"Plus grand\")\n",
    "        return False\n",
    "    elif guessNumber > givenNumber:\n",
    "        print(\"Plus petit\")\n",
    "        return False\n",
    "    else:\n",
    "        print(\"Bravo ! Vous avez deviné le nombre\")\n",
    "        return True\n",
    "\n",
    "def gamePlay():\n",
    "    Number1 = AskNumber()  # Joueur 1 entre son nombre\n",
    "    while True:\n",
    "        try:\n",
    "            Number2 = int(input(\"Joueur 2, devinez le nombre entré par le joueur 1: \"))  # Joueur 2 devine\n",
    "            if didWin(Number1, Number2):  # Si la devinette est correcte, sortir de la boucle\n",
    "                break\n",
    "        except ValueError:\n",
    "            print(\"Veuillez entrer un nombre valide.\")\n",
    "\n",
    "# Lancer le jeu\n",
    "gamePlay()\n"
   ]
  },
  {
   "cell_type": "markdown",
   "metadata": {},
   "source": [
    "##### Etape 5"
   ]
  },
  {
   "cell_type": "code",
   "execution_count": null,
   "metadata": {},
   "outputs": [],
   "source": [
    "#Etape 5 sur Python avec des limitations , le mieux c'est de le faire sous js, html\n",
    "import tkinter as tk\n",
    "from tkinter import messagebox\n",
    "\n",
    "# Définir la fenêtre principale\n",
    "root = tk.Tk()\n",
    "root.title(\"Devine le nombre\")\n",
    "\n",
    "# Variables globales\n",
    "tentatives = 0\n",
    "givenNumber = 22  # Le nombre à deviner est 22 (tu peux le rendre aléatoire si tu veux)\n",
    "\n",
    "# Fonction pour vérifier la proposition\n",
    "def check_guess():\n",
    "    global tentatives\n",
    "    try:\n",
    "        guess = int(entry.get())  # Récupérer la saisie de l'utilisateur\n",
    "        tentatives += 1\n",
    "        if guess < givenNumber:\n",
    "            label_result.config(text=\"Plus grand\")\n",
    "        elif guess > givenNumber:\n",
    "            label_result.config(text=\"Plus petit\")\n",
    "        else:\n",
    "            label_result.config(text=\"Bravo ! Vous avez deviné le nombre\")\n",
    "            messagebox.showinfo(\"Félicitations\", f\"Vous avez trouvé le nombre en {tentatives} tentatives !\")\n",
    "            reset_game()\n",
    "    except ValueError:\n",
    "        label_result.config(text=\"Veuillez entrer un nombre valide\")\n",
    "\n",
    "# Fonction pour réinitialiser le jeu après une victoire\n",
    "def reset_game():\n",
    "    global tentatives\n",
    "    tentatives = 0\n",
    "    label_attempts.config(text=\"Tentatives: 0\")\n",
    "    entry.delete(0, tk.END)  # Effacer le champ de saisie\n",
    "    label_result.config(text=\"\")\n",
    "\n",
    "# Widgets\n",
    "label_range = tk.Label(root, text=\"0 < ? < 50\", font=(\"Arial\", 14))\n",
    "label_range.pack(pady=10)\n",
    "\n",
    "entry = tk.Entry(root, font=(\"Arial\", 14))\n",
    "entry.pack(pady=10)\n",
    "\n",
    "btn_validate = tk.Button(root, text=\"Valider\", font=(\"Arial\", 14), command=check_guess)\n",
    "btn_validate.pack(pady=10)\n",
    "\n",
    "label_result = tk.Label(root, text=\"\", font=(\"Arial\", 14))\n",
    "label_result.pack(pady=10)\n",
    "\n",
    "label_attempts = tk.Label(root, text=\"Tentatives: 0\", font=(\"Arial\", 14))\n",
    "label_attempts.pack(pady=10)\n",
    "\n",
    "# Démarrer la boucle principale\n",
    "root.mainloop()\n"
   ]
  },
  {
   "cell_type": "markdown",
   "metadata": {},
   "source": [
    "#### Exercice 3: Git"
   ]
  },
  {
   "cell_type": "code",
   "execution_count": 23,
   "metadata": {},
   "outputs": [],
   "source": [
    "# Manipulation Git : j'ai fait un push pour les exercices individuels 1 et 2 version Python"
   ]
  },
  {
   "cell_type": "markdown",
   "metadata": {},
   "source": [
    "#### Exercice 4: Parlez-vous le morse"
   ]
  },
  {
   "cell_type": "markdown",
   "metadata": {},
   "source": [
    "##### Etape 1:"
   ]
  },
  {
   "cell_type": "code",
   "execution_count": 7,
   "metadata": {},
   "outputs": [
    {
     "name": "stdout",
     "output_type": "stream",
     "text": [
      "Hello World, parlez-vous le morse\n",
      "['H', 'e', 'l', 'l', 'o', ' ', 'W', 'o', 'r', 'l', 'd']\n"
     ]
    }
   ],
   "source": [
    "print(\"Hello World, parlez-vous le morse\")\n",
    "\n",
    "LatinCharacter = \"\"\n",
    "TableauLatinCharacter = []\n",
    "def getLatinCharacterList(texte):\n",
    "    texte = list(LatinCharacter)\n",
    "    return texte\n",
    "\n",
    "LatinCharacter = \"Hello World\"\n",
    "TableauLatinCharacter = getLatinCharacterList(LatinCharacter)\n",
    "print(TableauLatinCharacter)"
   ]
  },
  {
   "cell_type": "markdown",
   "metadata": {},
   "source": [
    "##### Etape 2"
   ]
  },
  {
   "cell_type": "code",
   "execution_count": 16,
   "metadata": {},
   "outputs": [
    {
     "name": "stdout",
     "output_type": "stream",
     "text": [
      "La traduction en morse est:.-\n"
     ]
    }
   ],
   "source": [
    "latinToMorse = {\n",
    "\t'A':'.-',\n",
    "\t'B':'-...',\n",
    "\t'C':'-.-.',\n",
    "\t'D':'-..',\n",
    "\t'E':'.',\n",
    "\t'F':'..-.',\n",
    "\t'G':'--.',\n",
    "\t'H':'....',\n",
    "\t'I':'..',\n",
    "\t'J':'.---',\n",
    "\t'K':'-.-',\n",
    "\t'L':'.-..',\n",
    "\t'M':'--',\n",
    "\t'N':'-.',\n",
    "\t'O':'---',\n",
    "\t'P':'.--.',\n",
    "\t'Q':'--.-',\n",
    "\t'R':'.-.',\n",
    "\t'S':'...',\n",
    "\t'T':'-',\n",
    "\t'U':'..-',\n",
    "\t'V':'...-',\n",
    "\t'W':'.--',\n",
    "\t'X':'-..-',\n",
    "\t'Y':'-.--',\n",
    "\t'Z':'--..'\n",
    "}\n",
    "\n",
    "def translateLatinCharacter(character):\n",
    "    translateLC = latinToMorse[character.upper()] or \"\"\n",
    "    #print(translateLC)\n",
    "    return translateLC\n",
    "\n",
    "character = \"a\"\n",
    "morse_code = translateLatinCharacter(character)\n",
    "print(\"La traduction en morse est:\" + morse_code)"
   ]
  },
  {
   "cell_type": "markdown",
   "metadata": {},
   "source": [
    "##### Etape 3"
   ]
  },
  {
   "cell_type": "code",
   "execution_count": 21,
   "metadata": {},
   "outputs": [
    {
     "name": "stdout",
     "output_type": "stream",
     "text": [
      "La traduction du texte en morse est :.... . .-.. .-.. --- / .-- --- .-. .-.. -..\n"
     ]
    },
    {
     "data": {
      "text/plain": [
       "'.... . .-.. .-.. --- / .-- --- .-. .-.. -..'"
      ]
     },
     "execution_count": 21,
     "metadata": {},
     "output_type": "execute_result"
    }
   ],
   "source": [
    "latinToMorse = {\n",
    "    'A': '.-', 'B': '-...', 'C': '-.-.', 'D': '-..', 'E': '.', 'F': '..-.',\n",
    "    'G': '--.', 'H': '....', 'I': '..', 'J': '.---', 'K': '-.-', 'L': '.-..',\n",
    "    'M': '--', 'N': '-.', 'O': '---', 'P': '.--.', 'Q': '--.-', 'R': '.-.',\n",
    "    'S': '...', 'T': '-', 'U': '..-', 'V': '...-', 'W': '.--', 'X': '-..-',\n",
    "    'Y': '-.--', 'Z': '--..', ' ': '/'  # Ajout d'un espace pour séparer les mots\n",
    "}\n",
    "\n",
    "def translateLatinCharacter(character):\n",
    "    return latinToMorse.get(character.upper(), '')  # Renvoie un caractère Morse ou une chaîne vide si non trouvé\n",
    "\n",
    "def encode(texte):\n",
    "    # Spliter le texte en caractères\n",
    "    TableauLatinCharacters = list(texte)\n",
    "    \n",
    "    # Ensuite, chercher la traduction morse de chaque caractère\n",
    "    morse_texte = ' '.join(translateLatinCharacter(char) for char in TableauLatinCharacters)\n",
    "    \n",
    "    print(\"La traduction du texte en morse est :\" + morse_texte)\n",
    "    return morse_texte\n",
    "\n",
    "texte = \"Hello World\"\n",
    "encode(texte)\n"
   ]
  },
  {
   "cell_type": "markdown",
   "metadata": {},
   "source": [
    "##### Etape 4:"
   ]
  },
  {
   "cell_type": "code",
   "execution_count": 31,
   "metadata": {},
   "outputs": [
    {
     "name": "stdout",
     "output_type": "stream",
     "text": [
      "La traduction du texte en Latin est : HELLO WORLD\n"
     ]
    },
    {
     "data": {
      "text/plain": [
       "'HELLO WORLD'"
      ]
     },
     "execution_count": 31,
     "metadata": {},
     "output_type": "execute_result"
    }
   ],
   "source": [
    "morseToLatin = {\n",
    "  '-': \"T\", '--': \"M\", '---': \"O\", '--.': \"G\", '--.-': \"Q\", '--..': \"Z\",\n",
    "  '-.': \"N\", '-.-': \"K\", '-.--': \"Y\", '-.-.': \"C\", '-..': \"D\", '-..-': \"X\",\n",
    "  '-...': \"B\", '.': \"E\", '.-': \"A\", '.--': \"W\", '.---': \"J\", '.--.': \"P\",\n",
    "  '.-.': \"R\", '.-..': \"L\", '..': \"I\", '..-': \"U\", '..-.': \"F\", '...': \"S\",\n",
    "  '...-': \"V\", '....': \"H\"\n",
    "}\n",
    "\n",
    "def translateMorseCharacter(character):\n",
    "    return morseToLatin.get(character, '')  # Renvoie un caractère Latin ou une chaîne vide si non trouvé\n",
    "  \n",
    "def decode(texte):\n",
    "    # Spliter le texte en mots séparés par '/'\n",
    "    mots_morse = texte.split(' / ')\n",
    "    \n",
    "    # Pour chaque mot morse, on le split en lettres et on les traduit\n",
    "    latin_texte = []\n",
    "    for mot in mots_morse:\n",
    "        lettres = mot.split(' ')  # Séparer les caractères du mot\n",
    "        mot_latin = ''.join(translateMorseCharacter(lettre) for lettre in lettres)\n",
    "        latin_texte.append(mot_latin)\n",
    "    \n",
    "    # Joindre les mots latins par des espaces pour former une phrase\n",
    "    resultat = ' '.join(latin_texte)\n",
    "    \n",
    "    print(\"La traduction du texte en Latin est : \" + resultat)\n",
    "    return resultat\n",
    "\n",
    "# Exemple\n",
    "texte = '.... . .-.. .-.. --- / .-- --- .-. .-.. -..'\n",
    "decode(texte)\n"
   ]
  },
  {
   "cell_type": "markdown",
   "metadata": {},
   "source": [
    "##### Etape 5"
   ]
  },
  {
   "cell_type": "code",
   "execution_count": 35,
   "metadata": {},
   "outputs": [
    {
     "name": "stdout",
     "output_type": "stream",
     "text": [
      "Traduction en texte : HELLO WORLD\n",
      "Traduction en Morse : .... . .-.. .-.. ---  .-- --- .-. .-.. -..\n"
     ]
    }
   ],
   "source": [
    "# Dictionnaires de traduction\n",
    "latinToMorse = { \n",
    "    'A': '.-', 'B': '-...', 'C': '-.-.', 'D': '-..', 'E': '.', 'F': '..-.',\n",
    "    'G': '--.', 'H': '....', 'I': '..', 'J': '.---', 'K': '-.-', 'L': '.-..',\n",
    "    'M': '--', 'N': '-.', 'O': '---', 'P': '.--.', 'Q': '--.-', 'R': '.-.',\n",
    "    'S': '...', 'T': '-', 'U': '..-', 'V': '...-', 'W': '.--', 'X': '-..-',\n",
    "    'Y': '-.--', 'Z': '--..'\n",
    "}\n",
    "\n",
    "morseToLatin = { \n",
    "    '-': \"T\", '--': \"M\", '---': \"O\", '--.': \"G\", '--.-': \"Q\", '--..': \"Z\",\n",
    "    '-.': \"N\", '-.-': \"K\", '-.--': \"Y\", '-.-.': \"C\", '-..': \"D\", '-..-': \"X\",\n",
    "    '-...': \"B\", '.': \"E\", '.-': \"A\", '.--': \"W\", '.---': \"J\", '.--.': \"P\",\n",
    "    '.-.': \"R\", '.-..': \"L\", '..': \"I\", '..-': \"U\", '..-.': \"F\", '...': \"S\",\n",
    "    '...-': \"V\", '....': \"H\"\n",
    "}\n",
    "\n",
    "def translateLatinCharacter(character):\n",
    "    return latinToMorse.get(character.upper(), '')\n",
    "\n",
    "def translateMorseCharacter(character):\n",
    "    return morseToLatin.get(character, '')\n",
    "def encode(texte):\n",
    "    # Spliter le texte en caractères\n",
    "    TableauLatinCharacters = list(texte)\n",
    "    \n",
    "    # Ensuite, chercher la traduction morse de chaque caractère\n",
    "    morse_texte = ' '.join(translateLatinCharacter(char) for char in TableauLatinCharacters)\n",
    "    \n",
    "    #print(\"La traduction du texte en morse est :\" + morse_texte)\n",
    "    return morse_texte\n",
    "def decode(morse):\n",
    "    # Séparer les mots et les caractères\n",
    "    mots_morse = morse.split(' / ')\n",
    "    latin_texte = []\n",
    "    \n",
    "    for mot in mots_morse:\n",
    "        lettres = mot.split(' ')\n",
    "        mot_latin = ''.join(translateMorseCharacter(lettre) for lettre in lettres)\n",
    "        latin_texte.append(mot_latin)\n",
    "    \n",
    "    return ' '.join(latin_texte)\n",
    "\n",
    "# Interface utilisateur\n",
    "while True:\n",
    "    choix = input(\"Voulez-vous (1) encoder du texte en Morse ou (2) décoder du Morse en texte ? (entrez 1 ou 2) : \")\n",
    "    \n",
    "    if choix == '1':\n",
    "        texte = input(\"Entrez le texte à encoder en Morse : \")\n",
    "        print(\"Traduction en Morse : \" + encode(texte))\n",
    "    \n",
    "    elif choix == '2':\n",
    "        morse = input(\"Entrez le code Morse à décoder (séparez les lettres par des espaces et les mots par ' / ') : \")\n",
    "        print(\"Traduction en texte : \" + decode(morse))\n",
    "    \n",
    "    else:\n",
    "        print(\"Choix invalide. Veuillez réessayer.\")\n",
    "    \n",
    "    continuer = input(\"Voulez-vous traduire un autre texte ? (o/n) : \")\n",
    "    if continuer.lower() != 'o':\n",
    "        break\n"
   ]
  },
  {
   "cell_type": "markdown",
   "metadata": {},
   "source": [
    "#### Exercice 5: Recursivité"
   ]
  },
  {
   "cell_type": "markdown",
   "metadata": {},
   "source": [
    "##### Etape 1"
   ]
  },
  {
   "cell_type": "code",
   "execution_count": 38,
   "metadata": {},
   "outputs": [
    {
     "name": "stdout",
     "output_type": "stream",
     "text": [
      "{'nom': 'Ada', 'contenu': [{'nom': 'Projets collectifs Ada', 'contenu': [{'nom': 'Pico8', 'contenu': [{'nom': 'mariokart.p8'}]}, {'nom': 'Dataviz', 'contenu': [{'nom': 'index.html'}, {'nom': 'script.js'}]}]}, {'nom': 'CV.pdf'}, {'nom': 'Projets persos', 'contenu': [{'nom': 'Portfolio', 'contenu': [{'nom': 'index.html'}, {'nom': 'script.js'}]}]}]}\n",
      "Ada\n"
     ]
    },
    {
     "data": {
      "text/plain": [
       "'Ada'"
      ]
     },
     "execution_count": 38,
     "metadata": {},
     "output_type": "execute_result"
    }
   ],
   "source": [
    "dossier_principal = {\n",
    "    'nom': 'Ada',\n",
    "    'contenu': [\n",
    "        {\n",
    "            'nom': 'Projets collectifs Ada',\n",
    "            'contenu': [\n",
    "                {\n",
    "                    'nom': 'Pico8',\n",
    "                    'contenu': [\n",
    "                        {\n",
    "                            'nom': 'mariokart.p8'\n",
    "                        }\n",
    "                    ]\n",
    "                },\n",
    "                {\n",
    "                    'nom': 'Dataviz',\n",
    "                    'contenu': [\n",
    "                        {\n",
    "                            'nom': 'index.html'\n",
    "                        },\n",
    "                        {\n",
    "                            'nom': 'script.js'\n",
    "                        }\n",
    "                    ]\n",
    "                }\n",
    "            ]\n",
    "        },\n",
    "        {\n",
    "            'nom': 'CV.pdf'\n",
    "        },\n",
    "        {\n",
    "            'nom': 'Projets persos',\n",
    "            'contenu': [\n",
    "                {\n",
    "                    'nom': 'Portfolio',\n",
    "                    'contenu': [\n",
    "                        {\n",
    "                            'nom': 'index.html'\n",
    "                        },\n",
    "                        {\n",
    "                            'nom': 'script.js'\n",
    "                        }\n",
    "                    ]\n",
    "                }\n",
    "            ]\n",
    "        }\n",
    "    ]\n",
    "}\n",
    "print(dossier_principal)\n",
    "\n",
    "def afficherDossiers(dossierPrincipal):\n",
    "    variable = dossierPrincipal[\"nom\"]\n",
    "    print(variable)\n",
    "    return variable\n",
    "    \n",
    "afficherDossiers(dossier_principal)"
   ]
  },
  {
   "cell_type": "markdown",
   "metadata": {},
   "source": [
    "##### Etape 2"
   ]
  },
  {
   "cell_type": "code",
   "execution_count": 77,
   "metadata": {},
   "outputs": [
    {
     "name": "stdout",
     "output_type": "stream",
     "text": [
      "{'nom': 'Ada', 'contenu': [{'nom': 'Projets collectifs Ada', 'contenu': []}, {'nom': 'CV.pdf'}, {'nom': 'Projets persos', 'contenu': []}]}\n"
     ]
    }
   ],
   "source": [
    "dossier_principal = {\n",
    "    'nom': 'Ada',\n",
    "    'contenu': [\n",
    "        {\n",
    "            'nom': 'Projets collectifs Ada',\n",
    "            'contenu': [\n",
    "                {\n",
    "                    'nom': 'Pico8',\n",
    "                    'contenu': [\n",
    "                        {\n",
    "                            'nom': 'mariokart.p8'\n",
    "                        }\n",
    "                    ]\n",
    "                },\n",
    "                {\n",
    "                    'nom': 'Dataviz',\n",
    "                    'contenu': [\n",
    "                        {\n",
    "                            'nom': 'index.html'\n",
    "                        },\n",
    "                        {\n",
    "                            'nom': 'script.js'\n",
    "                        }\n",
    "                    ]\n",
    "                }\n",
    "            ]\n",
    "        },\n",
    "        {\n",
    "            'nom': 'CV.pdf'\n",
    "        },\n",
    "        {\n",
    "            'nom': 'Projets persos',\n",
    "            'contenu': [\n",
    "                {\n",
    "                    'nom': 'Portfolio',\n",
    "                    'contenu': [\n",
    "                        {\n",
    "                            'nom': 'index.html'\n",
    "                        },\n",
    "                        {\n",
    "                            'nom': 'script.js'\n",
    "                        }\n",
    "                    ]\n",
    "                }\n",
    "            ]\n",
    "        }\n",
    "    ]\n",
    "}\n",
    "\n",
    "# Transformer dossier_principal en dossier_principal1\n",
    "def transformer_dossier(dossier):\n",
    "    for element in dossier['contenu']:\n",
    "        if 'contenu' in element:\n",
    "            element['contenu'] = []  # Vider le contenu\n",
    "    return dossier\n",
    "\n",
    "dossier_principal1 = transformer_dossier(dossier_principal)\n",
    "\n",
    "print(dossier_principal1)\n"
   ]
  },
  {
   "cell_type": "markdown",
   "metadata": {},
   "source": [
    "Fonction itérative"
   ]
  },
  {
   "cell_type": "code",
   "execution_count": 81,
   "metadata": {},
   "outputs": [
    {
     "name": "stdout",
     "output_type": "stream",
     "text": [
      "{'nom': 'Ada', 'contenu': [{'nom': 'Projets collectifs Ada', 'contenu': []}, {'nom': 'CV.pdf'}, {'nom': 'Projets persos', 'contenu': []}]}\n",
      "Ada\n",
      "Projets collectifs Ada\n",
      "CV.pdf\n",
      "Projets persos\n"
     ]
    }
   ],
   "source": [
    "dossier_principal1 = transformer_dossier(dossier_principal)\n",
    "\n",
    "print(dossier_principal1)\n",
    "\n",
    "def afficherDossierIteratif(dossierPrincipal):\n",
    "    variable1 = dossierPrincipal[\"nom\"]\n",
    "    print(variable1)\n",
    "    \n",
    "    #contenu = dossierPrincipal[\"contenu\"]\n",
    "    #print(contenu)\n",
    "    \n",
    "     # Obtenir le contenu du dossier principal\n",
    "    contenu_DP = dossierPrincipal.get(\"contenu\", [])\n",
    "    #print(contenu_DP)\n",
    "    \n",
    "    #contenu2= contenu_DP[0]\n",
    "    #print(contenu2)\n",
    "   \n",
    "    for element in contenu_DP:\n",
    "        #print(element)\n",
    "        variable2 = element[\"nom\"]\n",
    "        print(variable2)\n",
    "        #return variable2\n",
    "        \n",
    "    \n",
    "afficherDossierIteratif(dossier_principal1)"
   ]
  },
  {
   "cell_type": "markdown",
   "metadata": {},
   "source": [
    "Fonction récursive"
   ]
  },
  {
   "cell_type": "code",
   "execution_count": 82,
   "metadata": {},
   "outputs": [
    {
     "name": "stdout",
     "output_type": "stream",
     "text": [
      "Ada\n",
      "Projets collectifs Ada\n",
      "CV.pdf\n",
      "Projets persos\n"
     ]
    }
   ],
   "source": [
    "def afficherDossierRecursif(dossier):\n",
    "    # Afficher le nom du dossier principal ou de l'élément actuel\n",
    "    print(dossier[\"nom\"])\n",
    "    \n",
    "    # Vérifier si le dossier a un contenu\n",
    "    contenu = dossier.get(\"contenu\", [])\n",
    "    \n",
    "    # Si le contenu existe, appeler récursivement la fonction pour chaque élément\n",
    "    for element in contenu:\n",
    "        afficherDossierRecursif(element)\n",
    "\n",
    "# Appeler la fonction récursive\n",
    "afficherDossierRecursif(dossier_principal1)\n"
   ]
  },
  {
   "cell_type": "markdown",
   "metadata": {},
   "source": [
    "##### Etape 3"
   ]
  },
  {
   "cell_type": "markdown",
   "metadata": {},
   "source": [
    "Fonction itérative"
   ]
  },
  {
   "cell_type": "code",
   "execution_count": 88,
   "metadata": {},
   "outputs": [
    {
     "name": "stdout",
     "output_type": "stream",
     "text": [
      "Ada\n",
      "Projets collectifs Ada\n",
      "CV.pdf\n",
      "Projets persos\n",
      "Pico8\n",
      "Dataviz\n",
      "Portfolio\n",
      "mariokart.p8\n",
      "index.html\n",
      "script.js\n",
      "index.html\n",
      "script.js\n"
     ]
    }
   ],
   "source": [
    "\n",
    "dossier_principal = {\n",
    "    'nom': 'Ada',\n",
    "    'contenu': [\n",
    "        {\n",
    "            'nom': 'Projets collectifs Ada',\n",
    "            'contenu': [\n",
    "                {\n",
    "                    'nom': 'Pico8',\n",
    "                    'contenu': [\n",
    "                        {\n",
    "                            'nom': 'mariokart.p8'\n",
    "                        }\n",
    "                    ]\n",
    "                },\n",
    "                {\n",
    "                    'nom': 'Dataviz',\n",
    "                    'contenu': [\n",
    "                        {\n",
    "                            'nom': 'index.html'\n",
    "                        },\n",
    "                        {\n",
    "                            'nom': 'script.js'\n",
    "                        }\n",
    "                    ]\n",
    "                }\n",
    "            ]\n",
    "        },\n",
    "        {\n",
    "            'nom': 'CV.pdf'\n",
    "        },\n",
    "        {\n",
    "            'nom': 'Projets persos',\n",
    "            'contenu': [\n",
    "                {\n",
    "                    'nom': 'Portfolio',\n",
    "                    'contenu': [\n",
    "                        {\n",
    "                            'nom': 'index.html'\n",
    "                        },\n",
    "                        {\n",
    "                            'nom': 'script.js'\n",
    "                        }\n",
    "                    ]\n",
    "                }\n",
    "            ]\n",
    "        }\n",
    "    ]\n",
    "}\n",
    "def afficherDossierIteratif1(dossierPrincipal):\n",
    "    # Afficher le nom du dossier principal\n",
    "    variable1 = dossierPrincipal[\"nom\"]\n",
    "    print(variable1)\n",
    "    \n",
    "    # Initialiser une liste avec le contenu du dossier principal\n",
    "    contenu = dossierPrincipal.get(\"contenu\", [])\n",
    "    \n",
    "    # Utiliser une boucle `for` pour parcourir les éléments dans la liste `pile`\n",
    "    for i in contenu:\n",
    "        # Afficher le nom de chaque élément\n",
    "        variable2 = i[\"nom\"]\n",
    "        print(variable2)\n",
    "        \n",
    "        # Si l'élément a aussi un contenu, ajouter ce contenu à la liste `pile`\n",
    "        if \"contenu\" in i:\n",
    "            contenu.extend(i[\"contenu\"])\n",
    "\n",
    "# Appeler la fonction pour afficher le contenu de 'dossier_principal'\n",
    "afficherDossierIteratif1(dossier_principal)\n"
   ]
  },
  {
   "cell_type": "markdown",
   "metadata": {},
   "source": [
    "Fonction récursive"
   ]
  },
  {
   "cell_type": "code",
   "execution_count": 98,
   "metadata": {},
   "outputs": [
    {
     "name": "stdout",
     "output_type": "stream",
     "text": [
      "Ada\n",
      "Projets collectifs Ada\n",
      "Pico8\n",
      "mariokart.p8\n",
      "Dataviz\n",
      "index.html\n",
      "script.js\n",
      "CV.pdf\n",
      "Projets persos\n",
      "Portfolio\n",
      "index.html\n",
      "script.js\n"
     ]
    }
   ],
   "source": [
    "\n",
    "dossier_principal = {\n",
    "    'nom': 'Ada',\n",
    "    'contenu': [\n",
    "        {\n",
    "            'nom': 'Projets collectifs Ada',\n",
    "            'contenu': [\n",
    "                {\n",
    "                    'nom': 'Pico8',\n",
    "                    'contenu': [\n",
    "                        {\n",
    "                            'nom': 'mariokart.p8'\n",
    "                        }\n",
    "                    ]\n",
    "                },\n",
    "                {\n",
    "                    'nom': 'Dataviz',\n",
    "                    'contenu': [\n",
    "                        {\n",
    "                            'nom': 'index.html'\n",
    "                        },\n",
    "                        {\n",
    "                            'nom': 'script.js'\n",
    "                        }\n",
    "                    ]\n",
    "                }\n",
    "            ]\n",
    "        },\n",
    "        {\n",
    "            'nom': 'CV.pdf'\n",
    "        },\n",
    "        {\n",
    "            'nom': 'Projets persos',\n",
    "            'contenu': [\n",
    "                {\n",
    "                    'nom': 'Portfolio',\n",
    "                    'contenu': [\n",
    "                        {\n",
    "                            'nom': 'index.html'\n",
    "                        },\n",
    "                        {\n",
    "                            'nom': 'script.js'\n",
    "                        }\n",
    "                    ]\n",
    "                }\n",
    "            ]\n",
    "        }\n",
    "    ]\n",
    "}\n",
    "def afficherDossierRecursif1(dossier):\n",
    "    # Afficher le nom du dossier principal\n",
    "    variable1 = dossier[\"nom\"]\n",
    "    print(variable1)\n",
    "    \n",
    "    # Initialiser une liste avec le contenu du dossier principal\n",
    "    contenu = dossier.get(\"contenu\", [])\n",
    "    \n",
    "    # Utiliser une boucle `for` pour parcourir les éléments dans la liste `pile`\n",
    "    for element in contenu:\n",
    "        # Afficher le nom de chaque élément\n",
    "        afficherDossierRecursif1(element)\n",
    "        \n",
    "# Appeler la fonction récursive pour afficher le contenu de 'dossier_principal'\n",
    "afficherDossierRecursif1(dossier_principal)\n"
   ]
  },
  {
   "cell_type": "markdown",
   "metadata": {},
   "source": [
    "##### Etape 4"
   ]
  },
  {
   "cell_type": "code",
   "execution_count": 99,
   "metadata": {},
   "outputs": [],
   "source": [
    "#Les fonctions récursives font la même chose que les fonctions itératives mais ont juste moins ligne de code."
   ]
  },
  {
   "cell_type": "markdown",
   "metadata": {},
   "source": [
    "#### Exercice 6: Jouons avec les palindromes"
   ]
  },
  {
   "cell_type": "markdown",
   "metadata": {},
   "source": [
    "##### Etape 1"
   ]
  },
  {
   "cell_type": "code",
   "execution_count": 103,
   "metadata": {},
   "outputs": [
    {
     "name": "stdout",
     "output_type": "stream",
     "text": [
      "True\n",
      "False\n",
      "True\n"
     ]
    }
   ],
   "source": [
    "from datetime import datetime\n",
    "\n",
    "def isValidDate(date):\n",
    "    try:\n",
    "        # Tenter de convertir le string en objet datetime avec le format \"MM/DD/YYYY\"\n",
    "        datetime.strptime(date, \"%d/%m/%Y\")\n",
    "        return True\n",
    "    except ValueError:\n",
    "        # Si une ValueError est levée, ce n'est pas une vraie date\n",
    "        return False\n",
    "\n",
    "# Exemples d'utilisation\n",
    "print(isValidDate(\"03/04/2001\"))  \n",
    "print(isValidDate(\"03/14/2001\"))  \n",
    "print(isValidDate(\"13/01/2001\"))  \n",
    "\n",
    "     \n",
    "    "
   ]
  },
  {
   "cell_type": "markdown",
   "metadata": {},
   "source": [
    "NB: La fonction datetime.strptime est utilisée pour analyser le string et vérifier s'il correspond au format de date spécifié, ici \"DD/MM/YYYY\", qui est représenté par le format \"%d/%m/%Y\""
   ]
  },
  {
   "cell_type": "markdown",
   "metadata": {},
   "source": [
    "##### Etape 2"
   ]
  },
  {
   "cell_type": "code",
   "execution_count": 113,
   "metadata": {},
   "outputs": [
    {
     "name": "stdout",
     "output_type": "stream",
     "text": [
      "True\n",
      "False\n"
     ]
    }
   ],
   "source": [
    "from datetime import datetime\n",
    "\n",
    "def isPalindrome(date):\n",
    "    try:\n",
    "        # Tenter de convertir le string en objet datetime avec le format \"DD/MM/YYYY\"\n",
    "        datetime.strptime(date, \"%d/%m/%Y\")\n",
    "        \n",
    "        # Supprimer les barres obliques pour obtenir \"DDMMYYYY\"\n",
    "        date_str = date.replace('/', '')\n",
    "        \n",
    "        # Vérifier si la chaîne est un palindrome\n",
    "        if date_str == date_str[::-1]:\n",
    "            return True\n",
    "        else:\n",
    "            return False\n",
    "            \n",
    "    except ValueError:\n",
    "        # Si une ValueError est levée, ce n'est pas une vraie date\n",
    "        return False\n",
    "\n",
    "print(isPalindrome(\"11/02/2011\"))  # True\n",
    "print(isPalindrome(\"03/04/2001\"))  # False\n",
    "\n",
    "date_str = \"2011\"\n",
    "date_str_inverser = date_str[::-1]\n",
    "#print(date_str_inverser)  # \"1102\"\n",
    "\n",
    "date_str = \"11022011\"\n",
    "date_str_inverser = date_str[::-1]\n",
    "#print(date_str_inverser)  # \"11022011\"\n"
   ]
  },
  {
   "cell_type": "markdown",
   "metadata": {},
   "source": [
    "##### Etape 3"
   ]
  },
  {
   "cell_type": "code",
   "execution_count": 115,
   "metadata": {},
   "outputs": [
    {
     "name": "stdout",
     "output_type": "stream",
     "text": [
      "['03/02/2030', '13/02/2031', '23/02/2032', '04/02/2040', '14/02/2041', '24/02/2042', '05/02/2050', '15/02/2051']\n"
     ]
    }
   ],
   "source": [
    "from datetime import datetime, timedelta\n",
    "\n",
    "def isPalindrome(date):\n",
    "    try:\n",
    "        # Tenter de convertir le string en objet datetime avec le format \"DD/MM/YYYY\"\n",
    "        datetime.strptime(date, \"%d/%m/%Y\")\n",
    "        \n",
    "        # Supprimer les barres obliques pour obtenir \"DDMMYYYY\"\n",
    "        date_str = date.replace('/', '')\n",
    "        \n",
    "        # Vérifier si la chaîne est un palindrome\n",
    "        if date_str == date_str[::-1]:\n",
    "            return True\n",
    "        else:\n",
    "            return False\n",
    "            \n",
    "    except ValueError:\n",
    "        # Si une ValueError est levée, ce n'est pas une vraie date\n",
    "        return False\n",
    "\n",
    "def getNextPalindromes(x):\n",
    "    palindromes = []\n",
    "    today = datetime.now()\n",
    "    \n",
    "    # Parcourir les jours futurs jusqu'à obtenir x dates palindromes\n",
    "    while len(palindromes) < x:\n",
    "        # Convertir la date en format \"DD/MM/YYYY\"\n",
    "        date_str = today.strftime(\"%d/%m/%Y\")\n",
    "        \n",
    "        # Vérifier si c'est un palindrome\n",
    "        if isPalindrome(date_str):\n",
    "            palindromes.append(date_str)\n",
    "        \n",
    "        # Passer au jour suivant\n",
    "        today += timedelta(days=1)\n",
    "    \n",
    "    return palindromes\n",
    "\n",
    "# Exemple d'utilisation\n",
    "print(getNextPalindromes(8))\n"
   ]
  },
  {
   "cell_type": "markdown",
   "metadata": {},
   "source": [
    "##### Etape 4"
   ]
  },
  {
   "cell_type": "code",
   "execution_count": 117,
   "metadata": {},
   "outputs": [
    {
     "name": "stdout",
     "output_type": "stream",
     "text": [
      "True\n",
      "False\n",
      "True\n",
      "False\n",
      "False\n"
     ]
    }
   ],
   "source": [
    "from datetime import datetime\n",
    "\n",
    "def isPalindrome(s):\n",
    "    \"\"\"\n",
    "    Vérifie si la chaîne de caractères est un palindrome.\n",
    "    \"\"\"\n",
    "    return s == s[::-1]\n",
    "\n",
    "def isDatePalindrome(date):\n",
    "    \"\"\"\n",
    "    Vérifie si la date au format \"DD/MM/YYYY\" est un palindrome.\n",
    "    \"\"\"\n",
    "    try:\n",
    "        # Vérifier si la date est valide\n",
    "        datetime.strptime(date, \"%d/%m/%Y\")\n",
    "        \n",
    "        # Supprimer les barres obliques pour obtenir \"DDMMYYYY\"\n",
    "        date_str = date.replace('/', '')\n",
    "        \n",
    "        # Vérifier si la chaîne est un palindrome\n",
    "        return isPalindrome(date_str)\n",
    "    except ValueError:\n",
    "        # Si une ValueError est levée, ce n'est pas une vraie date\n",
    "        return False\n",
    "\n",
    "# Exemple d'utilisation\n",
    "if __name__ == \"__main__\":\n",
    "    # Tester la fonction isPalindrome\n",
    "    print(isPalindrome(\"12321\"))  # True\n",
    "    print(isPalindrome(\"hello\"))  # False\n",
    "\n",
    "    # Tester la fonction isDatePalindrome\n",
    "    print(isDatePalindrome(\"11/02/2011\"))  # True\n",
    "    print(isDatePalindrome(\"03/04/2001\"))  # False\n",
    "    print(isDatePalindrome(\"30/02/2020\"))  # False (date invalide)\n"
   ]
  },
  {
   "cell_type": "markdown",
   "metadata": {},
   "source": [
    "#### Exercice 7: Jeu des allumettes"
   ]
  },
  {
   "cell_type": "markdown",
   "metadata": {},
   "source": [
    "##### Etape 1"
   ]
  },
  {
   "cell_type": "code",
   "execution_count": 134,
   "metadata": {},
   "outputs": [
    {
     "name": "stdout",
     "output_type": "stream",
     "text": [
      "Vous devez retirer des allumettres entre 1 et 6\n"
     ]
    },
    {
     "data": {
      "text/plain": [
       "50"
      ]
     },
     "execution_count": 134,
     "metadata": {},
     "output_type": "execute_result"
    }
   ],
   "source": [
    "def retirer_allumettes(tas):\n",
    "    nb_allumettes = int(input(\"Entrer un nombre entre 1 et 6:\"))\n",
    "    if 1<nb_allumettes >6:\n",
    "        print(\"Vous devez retirer des allumettres entre 1 et 6\")\n",
    "        return tas\n",
    "    return tas-nb_allumettes\n",
    "\n",
    "tas =50\n",
    "\n",
    "retirer_allumettes(tas)"
   ]
  },
  {
   "cell_type": "markdown",
   "metadata": {},
   "source": [
    "##### Etape 2"
   ]
  },
  {
   "cell_type": "code",
   "execution_count": 135,
   "metadata": {},
   "outputs": [
    {
     "name": "stdout",
     "output_type": "stream",
     "text": [
      "Entrée invalide. Veuillez entrer un nombre entre 1 et 6.\n",
      "Entrée invalide. Veuillez entrer un nombre entier.\n",
      "Entrée invalide. Veuillez entrer un nombre entier.\n",
      "Entrée invalide. Veuillez entrer un nombre entier.\n",
      "Entrée invalide. Veuillez entrer un nombre entre 1 et 6.\n",
      "Vous avez retiré la dernière allumette. Vous avez gagné !\n"
     ]
    }
   ],
   "source": [
    "def retirer_allumettes(tas, nb_allumettes):\n",
    "    \"\"\"Retire un nombre d'allumettes du tas et retourne le nombre restant.\"\"\"\n",
    "    return tas - nb_allumettes\n",
    "\n",
    "def jeu_des_allumettes():\n",
    "    \"\"\"Joue au jeu des allumettes avec l'utilisateur.\"\"\"\n",
    "    tas = 50\n",
    "\n",
    "    while tas > 0:\n",
    "        while True:\n",
    "            try:\n",
    "                # Demander combien d'allumettes l'utilisateur veut retirer\n",
    "                nb_allumettes = int(input(f\"Il reste {tas} allumettes. Combien d'allumettes voulez-vous retirer ? (1 à 6) \"))\n",
    "                \n",
    "                # Vérifier que le nombre d'allumettes est valide\n",
    "                if 1 <= nb_allumettes <= 6:\n",
    "                    break\n",
    "                else:\n",
    "                    print(\"Entrée invalide. Veuillez entrer un nombre entre 1 et 6.\")\n",
    "            except ValueError:\n",
    "                print(\"Entrée invalide. Veuillez entrer un nombre entier.\")\n",
    "\n",
    "        # Retirer les allumettes\n",
    "        tas = retirer_allumettes(tas, nb_allumettes)\n",
    "\n",
    "    print(\"Vous avez retiré la dernière allumette. Vous avez gagné !\")\n",
    "\n",
    "# Démarrer le jeu\n",
    "jeu_des_allumettes()\n"
   ]
  },
  {
   "cell_type": "markdown",
   "metadata": {},
   "source": [
    "##### Etape 3"
   ]
  },
  {
   "cell_type": "code",
   "execution_count": 136,
   "metadata": {},
   "outputs": [
    {
     "name": "stdout",
     "output_type": "stream",
     "text": [
      "Joueur 2 a retiré la dernière allumette. Joueur 2 a gagné !\n"
     ]
    }
   ],
   "source": [
    "def retirer_allumettes(tas, nb_allumettes):\n",
    "    if 1 <= nb_allumettes <= 6:\n",
    "        tas -= nb_allumettes\n",
    "    else:\n",
    "        print(\"Nombre d'allumettes invalide. Vous devez retirer entre 1 et 6 allumettes.\")\n",
    "    return tas\n",
    "\n",
    "def jeu_des_allumettes():\n",
    "    tas = 50\n",
    "    joueur = 1\n",
    "    while tas > 0:\n",
    "        try:\n",
    "            nb_allumettes = int(input(f\"Il reste {tas} allumettes. Joueur {joueur}, combien d'allumettes voulez-vous retirer ? (1 à 6) \"))\n",
    "            tas = retirer_allumettes(tas, nb_allumettes)\n",
    "            if tas == 0:\n",
    "                print(f\"Joueur {joueur} a retiré la dernière allumette. Joueur {joueur} a gagné !\")\n",
    "                break\n",
    "            joueur = 2 if joueur == 1 else 1\n",
    "        except ValueError:\n",
    "            print(\"Entrée invalide. Veuillez entrer un nombre entier.\")\n",
    "\n",
    "jeu_des_allumettes()\n"
   ]
  }
 ],
 "metadata": {
  "kernelspec": {
   "display_name": "Python 3",
   "language": "python",
   "name": "python3"
  },
  "language_info": {
   "codemirror_mode": {
    "name": "ipython",
    "version": 3
   },
   "file_extension": ".py",
   "mimetype": "text/x-python",
   "name": "python",
   "nbconvert_exporter": "python",
   "pygments_lexer": "ipython3",
   "version": "3.12.6"
  }
 },
 "nbformat": 4,
 "nbformat_minor": 2
}
