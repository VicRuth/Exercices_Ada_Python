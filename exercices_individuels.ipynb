{
 "cells": [
  {
   "cell_type": "markdown",
   "metadata": {},
   "source": [
    "#### Exercice1"
   ]
  },
  {
   "cell_type": "markdown",
   "metadata": {},
   "source": [
    "##### Etape 2"
   ]
  },
  {
   "cell_type": "code",
   "execution_count": 8,
   "metadata": {},
   "outputs": [
    {
     "name": "stdout",
     "output_type": "stream",
     "text": [
      "Bonjour !\n",
      "Bonjour  Ruth !\n"
     ]
    }
   ],
   "source": [
    "message = \"Bonjour !\"\n",
    "print(message)\n",
    "\n",
    "firstname = \" Ruth\"\n",
    "message = \"Bonjour\" + \" \" + firstname + \" !\"\n",
    "#message = f\"Bonjour {firstname} !\"\n",
    "print(message)"
   ]
  },
  {
   "cell_type": "markdown",
   "metadata": {},
   "source": [
    "##### Etape 3"
   ]
  },
  {
   "cell_type": "code",
   "execution_count": 9,
   "metadata": {},
   "outputs": [
    {
     "name": "stdout",
     "output_type": "stream",
     "text": [
      "Bonjour Ruth !\n"
     ]
    }
   ],
   "source": [
    "def sayHello(firstname ): \n",
    "    message = \"Bonjour\" + \" \" + firstname + \" !\"\n",
    "    print (message)\n",
    "    \n",
    "sayHello(\"Ruth\")"
   ]
  },
  {
   "cell_type": "markdown",
   "metadata": {},
   "source": [
    "##### Etape 5"
   ]
  },
  {
   "cell_type": "code",
   "execution_count": 10,
   "metadata": {},
   "outputs": [
    {
     "name": "stdout",
     "output_type": "stream",
     "text": [
      "Bonjour Ruth !\n",
      "Bonsoir Ruth !\n",
      "Bonjour Ruth !\n"
     ]
    }
   ],
   "source": [
    "def sayHello(firstname,hour ): \n",
    "    if hour >=18:\n",
    "        message = \"Bonsoir\" + \" \" + firstname + \" !\"\n",
    "        print (message)\n",
    "    else: \n",
    "        message = \"Bonjour\" + \" \" + firstname + \" !\"\n",
    "        print (message)\n",
    "    \n",
    "sayHello(\"Ruth\",11)\n",
    "sayHello(\"Ruth\",18)\n",
    "sayHello(\"Ruth\",17)"
   ]
  },
  {
   "cell_type": "markdown",
   "metadata": {},
   "source": [
    "#### Exercice 2"
   ]
  },
  {
   "cell_type": "markdown",
   "metadata": {},
   "source": [
    "##### Etape 1"
   ]
  },
  {
   "cell_type": "code",
   "execution_count": 2,
   "metadata": {},
   "outputs": [
    {
     "data": {
      "text/plain": [
       "15"
      ]
     },
     "execution_count": 2,
     "metadata": {},
     "output_type": "execute_result"
    }
   ],
   "source": [
    "def AskNumber ():\n",
    "    givenNumber = int(input(\"Bonjour, pouvez-vous entrer un nombre:\"))\n",
    "    return givenNumber\n",
    "    \n",
    "AskNumber()\n"
   ]
  },
  {
   "cell_type": "markdown",
   "metadata": {},
   "source": [
    "##### Etape 2"
   ]
  },
  {
   "cell_type": "code",
   "execution_count": 19,
   "metadata": {},
   "outputs": [
    {
     "name": "stdout",
     "output_type": "stream",
     "text": [
      "Plus grand\n"
     ]
    }
   ],
   "source": [
    "def AskNumber ():\n",
    "    givenNumber = int(input(\"Bonjour, pouvez-vous entrer un nombre:\"))\n",
    "    return givenNumber\n",
    "\n",
    "def didWin(givenNumber):\n",
    "    if givenNumber<22:\n",
    "        print (\"Plus grand\")\n",
    "    elif givenNumber>22 : \n",
    "        print (\"Plus petit\")\n",
    "    else:\n",
    "        print(\"Bravo ! Vous avez deviné le nombre\")\n",
    "\n",
    "def gamePlay():\n",
    "    Number = AskNumber()\n",
    "    didWin(Number)\n",
    "\n",
    "gamePlay()"
   ]
  },
  {
   "cell_type": "markdown",
   "metadata": {},
   "source": [
    "##### Etape 3"
   ]
  },
  {
   "cell_type": "code",
   "execution_count": 18,
   "metadata": {},
   "outputs": [
    {
     "name": "stdout",
     "output_type": "stream",
     "text": [
      "Plus grand\n",
      "Plus petit\n",
      "Bravo ! Vous avez deviné le nombre\n"
     ]
    }
   ],
   "source": [
    "def AskNumber ():\n",
    "    givenNumber = int(input(\"Bonjour, entrez un nombre entre 0 et 50:\"))\n",
    "    return givenNumber\n",
    "\n",
    "def didWin(givenNumber):\n",
    "    if givenNumber<22:\n",
    "        print (\"Plus grand\")\n",
    "        return False\n",
    "    elif givenNumber>22 : \n",
    "        print (\"Plus petit\")\n",
    "        return False\n",
    "    else:\n",
    "        print(\"Bravo ! Vous avez deviné le nombre\")\n",
    "        return True\n",
    "\n",
    "def gamePlay():\n",
    "    \n",
    "    while True:\n",
    "        Number = AskNumber()\n",
    "        \n",
    "        if didWin(Number):\n",
    "            break #Sortir de la boucle while, une condition de sortie\n",
    "\n",
    "gamePlay()"
   ]
  },
  {
   "cell_type": "markdown",
   "metadata": {},
   "source": [
    "##### Etape 4"
   ]
  },
  {
   "cell_type": "code",
   "execution_count": 21,
   "metadata": {},
   "outputs": [
    {
     "name": "stdout",
     "output_type": "stream",
     "text": [
      "Plus grand\n",
      "Plus petit\n",
      "Bravo ! Vous avez deviné le nombre\n"
     ]
    }
   ],
   "source": [
    "def AskNumber():\n",
    "    while True:\n",
    "        try:\n",
    "            givenNumber = int(input(\"Bonjour, joueur 1, pouvez-vous entrer un nombre entre 0 et 50: \"))\n",
    "            if 0 <= givenNumber <= 50:  # Vérification si le nombre est dans la plage\n",
    "                return givenNumber\n",
    "            else:\n",
    "                print(\"Le nombre doit être entre 0 et 50.\")\n",
    "        except ValueError:\n",
    "            print(\"Veuillez entrer un nombre valide.\")\n",
    "\n",
    "def didWin(givenNumber, guessNumber):\n",
    "    if guessNumber < givenNumber:\n",
    "        print(\"Plus grand\")\n",
    "        return False\n",
    "    elif guessNumber > givenNumber:\n",
    "        print(\"Plus petit\")\n",
    "        return False\n",
    "    else:\n",
    "        print(\"Bravo ! Vous avez deviné le nombre\")\n",
    "        return True\n",
    "\n",
    "def gamePlay():\n",
    "    Number1 = AskNumber()  # Joueur 1 entre son nombre\n",
    "    while True:\n",
    "        try:\n",
    "            Number2 = int(input(\"Joueur 2, devinez le nombre entré par le joueur 1: \"))  # Joueur 2 devine\n",
    "            if didWin(Number1, Number2):  # Si la devinette est correcte, sortir de la boucle\n",
    "                break\n",
    "        except ValueError:\n",
    "            print(\"Veuillez entrer un nombre valide.\")\n",
    "\n",
    "# Lancer le jeu\n",
    "gamePlay()\n"
   ]
  },
  {
   "cell_type": "markdown",
   "metadata": {},
   "source": [
    "##### Etape 5"
   ]
  },
  {
   "cell_type": "code",
   "execution_count": null,
   "metadata": {},
   "outputs": [],
   "source": [
    "#Etape 5 sur Python avec des limitations , le mieux c'est de le faire sous js, html\n",
    "import tkinter as tk\n",
    "from tkinter import messagebox\n",
    "\n",
    "# Définir la fenêtre principale\n",
    "root = tk.Tk()\n",
    "root.title(\"Devine le nombre\")\n",
    "\n",
    "# Variables globales\n",
    "tentatives = 0\n",
    "givenNumber = 22  # Le nombre à deviner est 22 (tu peux le rendre aléatoire si tu veux)\n",
    "\n",
    "# Fonction pour vérifier la proposition\n",
    "def check_guess():\n",
    "    global tentatives\n",
    "    try:\n",
    "        guess = int(entry.get())  # Récupérer la saisie de l'utilisateur\n",
    "        tentatives += 1\n",
    "        if guess < givenNumber:\n",
    "            label_result.config(text=\"Plus grand\")\n",
    "        elif guess > givenNumber:\n",
    "            label_result.config(text=\"Plus petit\")\n",
    "        else:\n",
    "            label_result.config(text=\"Bravo ! Vous avez deviné le nombre\")\n",
    "            messagebox.showinfo(\"Félicitations\", f\"Vous avez trouvé le nombre en {tentatives} tentatives !\")\n",
    "            reset_game()\n",
    "    except ValueError:\n",
    "        label_result.config(text=\"Veuillez entrer un nombre valide\")\n",
    "\n",
    "# Fonction pour réinitialiser le jeu après une victoire\n",
    "def reset_game():\n",
    "    global tentatives\n",
    "    tentatives = 0\n",
    "    label_attempts.config(text=\"Tentatives: 0\")\n",
    "    entry.delete(0, tk.END)  # Effacer le champ de saisie\n",
    "    label_result.config(text=\"\")\n",
    "\n",
    "# Widgets\n",
    "label_range = tk.Label(root, text=\"0 < ? < 50\", font=(\"Arial\", 14))\n",
    "label_range.pack(pady=10)\n",
    "\n",
    "entry = tk.Entry(root, font=(\"Arial\", 14))\n",
    "entry.pack(pady=10)\n",
    "\n",
    "btn_validate = tk.Button(root, text=\"Valider\", font=(\"Arial\", 14), command=check_guess)\n",
    "btn_validate.pack(pady=10)\n",
    "\n",
    "label_result = tk.Label(root, text=\"\", font=(\"Arial\", 14))\n",
    "label_result.pack(pady=10)\n",
    "\n",
    "label_attempts = tk.Label(root, text=\"Tentatives: 0\", font=(\"Arial\", 14))\n",
    "label_attempts.pack(pady=10)\n",
    "\n",
    "# Démarrer la boucle principale\n",
    "root.mainloop()\n"
   ]
  },
  {
   "cell_type": "markdown",
   "metadata": {},
   "source": []
  }
 ],
 "metadata": {
  "kernelspec": {
   "display_name": "Python 3",
   "language": "python",
   "name": "python3"
  },
  "language_info": {
   "codemirror_mode": {
    "name": "ipython",
    "version": 3
   },
   "file_extension": ".py",
   "mimetype": "text/x-python",
   "name": "python",
   "nbconvert_exporter": "python",
   "pygments_lexer": "ipython3",
   "version": "3.12.6"
  }
 },
 "nbformat": 4,
 "nbformat_minor": 2
}
